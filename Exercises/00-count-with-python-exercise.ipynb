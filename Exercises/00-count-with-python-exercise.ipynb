{
 "cells": [
  {
   "cell_type": "markdown",
   "metadata": {},
   "source": [
    "## Count with Python"
   ]
  },
  {
   "cell_type": "markdown",
   "metadata": {},
   "source": [
    "### 1. Pythagorean theorem"
   ]
  },
  {
   "cell_type": "markdown",
   "metadata": {},
   "source": [
    "#### a)"
   ]
  },
  {
   "cell_type": "code",
   "execution_count": null,
   "metadata": {},
   "outputs": [
    {
     "name": "stdout",
     "output_type": "stream",
     "text": [
      "The hypothenus off the triangle is: 5\n"
     ]
    }
   ],
   "source": [
    "import math\n",
    "a = 3\n",
    "b = 4\n",
    "hypothenus = int(math.sqrt(a**2 + b**2))\n",
    "print(f\"The hypothenus off the triangle is: {hypothenus}\")"
   ]
  },
  {
   "cell_type": "markdown",
   "metadata": {},
   "source": [
    "#### b)"
   ]
  },
  {
   "cell_type": "code",
   "execution_count": 31,
   "metadata": {},
   "outputs": [
    {
     "name": "stdout",
     "output_type": "stream",
     "text": [
      "b=4.9\n"
     ]
    }
   ],
   "source": [
    "import math\n",
    "hypothenus = 7.0\n",
    "a = 5.0\n",
    "c = hypothenus\n",
    "b  = float(math.sqrt(c**2 - a**2)) \n",
    "print( f\"{b=:.1f}\")\n"
   ]
  },
  {
   "cell_type": "markdown",
   "metadata": {},
   "source": [
    "### 2. Classiffication accuracy"
   ]
  },
  {
   "cell_type": "code",
   "execution_count": 35,
   "metadata": {},
   "outputs": [
    {
     "name": "stdout",
     "output_type": "stream",
     "text": [
      "The accuracy rate is: accuracy = 82.2\n"
     ]
    }
   ],
   "source": [
    "days = 365\n",
    "correct = 300\n",
    "accuracy = (correct / days) * 100\n",
    "print(f\"The accuracy rate is: {accuracy = :.1f}\")"
   ]
  },
  {
   "cell_type": "markdown",
   "metadata": {},
   "source": [
    "### 3. Classification accuracy"
   ]
  },
  {
   "cell_type": "code",
   "execution_count": 38,
   "metadata": {},
   "outputs": [
    {
     "name": "stdout",
     "output_type": "stream",
     "text": [
      "The accurate rate of the machine learning model is: 98.7%\n"
     ]
    }
   ],
   "source": [
    "print(f\"The accurate rate of the machine learning model is: {((2+985) / (2+2+11+985)) * 100}%\")"
   ]
  },
  {
   "cell_type": "markdown",
   "metadata": {},
   "source": []
  },
  {
   "cell_type": "markdown",
   "metadata": {},
   "source": [
    "### 4 Line"
   ]
  },
  {
   "cell_type": "code",
   "execution_count": 41,
   "metadata": {},
   "outputs": [
    {
     "name": "stdout",
     "output_type": "stream",
     "text": [
      "The slope is equal to: 0.75\n",
      "The constant m is: 1.0\n"
     ]
    }
   ],
   "source": [
    "y1 = 1\n",
    "y2 = 4\n",
    "x1 = 0 \n",
    "x2 = 4\n",
    "\n",
    "k = (y2 - y1) / (x2 - x1)\n",
    "print(f\"The slope is equal to: {k}\")\n",
    "\n",
    "m = y1 - (k * x1)\n",
    "print(f\"The constant m is: {m}\")"
   ]
  },
  {
   "cell_type": "markdown",
   "metadata": {},
   "source": [
    "### 5.Euclidean distance"
   ]
  },
  {
   "cell_type": "code",
   "execution_count": 44,
   "metadata": {},
   "outputs": [
    {
     "name": "stdout",
     "output_type": "stream",
     "text": [
      "The euclidean distance is: distance = 5.1\n"
     ]
    }
   ],
   "source": [
    "import math\n",
    "distance = math.sqrt(((-2 - 3)**2) + ((4-5) **2))\n",
    "print(f\"The euclidean distance is: {distance = :.1f}\")"
   ]
  },
  {
   "cell_type": "markdown",
   "metadata": {},
   "source": []
  },
  {
   "cell_type": "markdown",
   "metadata": {},
   "source": [
    "### 6. Euclidean distance in 3D"
   ]
  },
  {
   "cell_type": "code",
   "execution_count": null,
   "metadata": {},
   "outputs": [],
   "source": []
  }
 ],
 "metadata": {
  "kernelspec": {
   "display_name": "Python 3.9.13 64-bit",
   "language": "python",
   "name": "python3"
  },
  "language_info": {
   "codemirror_mode": {
    "name": "ipython",
    "version": 3
   },
   "file_extension": ".py",
   "mimetype": "text/x-python",
   "name": "python",
   "nbconvert_exporter": "python",
   "pygments_lexer": "ipython3",
   "version": "3.9.13"
  },
  "orig_nbformat": 4,
  "vscode": {
   "interpreter": {
    "hash": "aee8b7b246df8f9039afb4144a1f6fd8d2ca17a180786b69acc140d282b71a49"
   }
  }
 },
 "nbformat": 4,
 "nbformat_minor": 2
}
