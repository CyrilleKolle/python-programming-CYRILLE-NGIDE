{
 "cells": [
  {
   "cell_type": "markdown",
   "metadata": {},
   "source": [
    "### 1. check sign"
   ]
  },
  {
   "cell_type": "code",
   "execution_count": 3,
   "metadata": {},
   "outputs": [
    {
     "name": "stdout",
     "output_type": "stream",
     "text": [
      "The number you entered is negative and is -1\n"
     ]
    }
   ],
   "source": [
    "number = int(input(\"Input number: \"))\n",
    "\n",
    "if number > 0:\n",
    "    print(f\"The number you enter is positive and is {number}\")\n",
    "elif number == 0:\n",
    "    print(f\"The number you entered is 0\")   \n",
    "else:\n",
    "    print(f\"The number you entered is negative and is {number}\")"
   ]
  },
  {
   "cell_type": "markdown",
   "metadata": {},
   "source": [
    "### 2. Smallest"
   ]
  },
  {
   "cell_type": "code",
   "execution_count": 4,
   "metadata": {},
   "outputs": [
    {
     "name": "stdout",
     "output_type": "stream",
     "text": [
      "2\n"
     ]
    }
   ],
   "source": [
    "number1 = int(input(\"Input the first number: \"))\n",
    "number2 = int(input(\"Input the second number: \"))\n",
    "\n",
    "print(max(number1, number2))\n"
   ]
  },
  {
   "cell_type": "markdown",
   "metadata": {},
   "source": [
    "### 3. Right angle"
   ]
  },
  {
   "cell_type": "code",
   "execution_count": 4,
   "metadata": {},
   "outputs": [
    {
     "name": "stdout",
     "output_type": "stream",
     "text": [
      "The value you entered correspond to a valid triangle\n"
     ]
    }
   ],
   "source": [
    "angle1 = int(input(\"Enter first anngle: \"))\n",
    "angle2 = int(input(\"Enter second anngle: \"))\n",
    "angle3 = int(input(\"Enter third anngle: \"))\n",
    "\n",
    "if (angle1 != 0 and angle2 != 0 and angle3 != 0 and (angle1 + angle2 + angle3)== 180): \n",
    "    print(f\"The value you entered correspond to a valid triangle\")\n",
    "else: \n",
    "    print(f\"No,triangle not possible\")"
   ]
  },
  {
   "cell_type": "markdown",
   "metadata": {},
   "source": [
    "### 4. Medicine"
   ]
  },
  {
   "cell_type": "code",
   "execution_count": 26,
   "metadata": {},
   "outputs": [
    {
     "name": "stdout",
     "output_type": "stream",
     "text": [
      "take 1-2 pills a day\n"
     ]
    }
   ],
   "source": [
    "weight = int(input(\"Input your weight: \"))\n",
    "age = int(input(\"Input your age: \"))\n",
    "\n",
    "if   3 <= age <= 7: \n",
    "    if 15  <= weight <= 25:\n",
    "        print(f\"Take 1/2 pills a day\")\n",
    "elif 7 < age <= 12:\n",
    "    print(f\"take 1/2-1 pills a  day\")\n",
    "elif weight > 40:\n",
    "    print(f\"take 1-2 pills a day\")\n",
    "else:\n",
    "    print(f\"You cant take these tablets. Please see your physician!\")\n",
    "\n",
    "    \n"
   ]
  },
  {
   "cell_type": "markdown",
   "metadata": {},
   "source": [
    "### 5. Divisible"
   ]
  },
  {
   "cell_type": "markdown",
   "metadata": {},
   "source": [
    "### 6. Luggage size"
   ]
  },
  {
   "cell_type": "markdown",
   "metadata": {},
   "source": []
  }
 ],
 "metadata": {
  "kernelspec": {
   "display_name": "Python 3.9.13 64-bit",
   "language": "python",
   "name": "python3"
  },
  "language_info": {
   "codemirror_mode": {
    "name": "ipython",
    "version": 3
   },
   "file_extension": ".py",
   "mimetype": "text/x-python",
   "name": "python",
   "nbconvert_exporter": "python",
   "pygments_lexer": "ipython3",
   "version": "3.9.13"
  },
  "orig_nbformat": 4,
  "vscode": {
   "interpreter": {
    "hash": "aee8b7b246df8f9039afb4144a1f6fd8d2ca17a180786b69acc140d282b71a49"
   }
  }
 },
 "nbformat": 4,
 "nbformat_minor": 2
}
