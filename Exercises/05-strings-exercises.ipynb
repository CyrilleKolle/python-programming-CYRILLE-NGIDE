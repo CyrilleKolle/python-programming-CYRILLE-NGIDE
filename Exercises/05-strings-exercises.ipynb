{
 "cells": [
  {
   "cell_type": "markdown",
   "metadata": {},
   "source": [
    "### 1. Counting letters"
   ]
  },
  {
   "cell_type": "code",
   "execution_count": 13,
   "metadata": {},
   "outputs": [
    {
     "name": "stdout",
     "output_type": "stream",
     "text": [
      "The number of letters in Heavenly God is: 12\n",
      "2 uppercase chars and 10 lowercase chars\n"
     ]
    }
   ],
   "source": [
    "from curses.ascii import isupper\n",
    "import re\n",
    "user_word = input(\"Please input a word: \")\n",
    "\n",
    "#a\n",
    "letters_in_word = list(user_word)\n",
    "print(f\"The number of letters in {user_word} is: {len(letters_in_word)}\")\n",
    "\n",
    "#b\n",
    "uppercase_chars = 0\n",
    "lowercase_chars = 0\n",
    "\n",
    "for i in range(len(letters_in_word)):\n",
    "    if letters_in_word[i].isupper():\n",
    "        uppercase_chars += 1\n",
    "    else:\n",
    "        lowercase_chars += 1\n",
    "print(f\"{uppercase_chars} uppercase chars and {lowercase_chars} lowercase chars\")"
   ]
  },
  {
   "cell_type": "markdown",
   "metadata": {},
   "source": [
    "### 2. Counting words"
   ]
  },
  {
   "cell_type": "code",
   "execution_count": 22,
   "metadata": {},
   "outputs": [
    {
     "name": "stdout",
     "output_type": "stream",
     "text": [
      "The number of words in the sentence is: 17\n"
     ]
    }
   ],
   "source": [
    "sentence = \"A picture says more than a thousand words, a matematical formula says more than a thousand pictures.\" \n",
    "sentence_list = sentence.split(\" \")\n",
    "\n",
    "print(f\"The number of words in the sentence is: {len(sentence_list)}\")"
   ]
  },
  {
   "cell_type": "markdown",
   "metadata": {},
   "source": [
    "### 3. Palindromes"
   ]
  },
  {
   "cell_type": "code",
   "execution_count": 38,
   "metadata": {},
   "outputs": [
    {
     "name": "stdout",
     "output_type": "stream",
     "text": [
      "abc is not a palindrome\n"
     ]
    }
   ],
   "source": [
    "check_palindrome = input(\"Input a number lets check: \")\n",
    "seperator = \"\"\n",
    "word_list = seperator.join(check_palindrome.split(\" \"))\n",
    "word_list_reversed = seperator.join(word_list[::-1])\n",
    "\n",
    "if word_list.lower() == word_list_reversed.lower():\n",
    "    print(f\"{check_palindrome} is a palindrome\")\n",
    "else:\n",
    "    print(f\"{check_palindrome} is not a palindrome\")"
   ]
  },
  {
   "cell_type": "markdown",
   "metadata": {},
   "source": [
    "### 3. Vowels"
   ]
  },
  {
   "cell_type": "code",
   "execution_count": 59,
   "metadata": {},
   "outputs": [
    {
     "name": "stdout",
     "output_type": "stream",
     "text": [
      "There are 22 in this sentence\n"
     ]
    }
   ],
   "source": [
    "vowels = ['a','e','i','o','u','y']\n",
    "sentence_2 = \"Pure mathematics is, in its way, the poetry of logical ideas\"\n",
    "number_vowels = 0\n",
    "all_letters_in_sentence = list(sentence_2)\n",
    "\n",
    "for v in range(len(vowels)):\n",
    "    for s in range(len(all_letters_in_sentence)):\n",
    "        if vowels[v] == all_letters_in_sentence[s]:\n",
    "            number_vowels += 1\n",
    "print(f\"There are {number_vowels} vowels in the sentence\")"
   ]
  },
  {
   "cell_type": "markdown",
   "metadata": {},
   "source": [
    "### 5. encryption"
   ]
  },
  {
   "cell_type": "code",
   "execution_count": 116,
   "metadata": {},
   "outputs": [
    {
     "name": "stdout",
     "output_type": "stream",
     "text": [
      "The encrypted message is: bcd\n",
      "The decrypted message is: abc\n"
     ]
    }
   ],
   "source": [
    "import string\n",
    "\n",
    "alphabet = string.ascii_lowercase\n",
    "alphabet_list = list(alphabet)\n",
    "message = input(\"Please write your message: \")\n",
    "message_list = list(message)\n",
    "\n",
    "#a encrypt\n",
    "for i, n in enumerate(message_list):\n",
    "    for a in range(len(alphabet_list)):\n",
    "        if n == alphabet_list[a]:\n",
    "            message_list[i] = alphabet_list[a + 1]\n",
    "encrypted = seperator.join(message_list)\n",
    "print(f\"The encrypted message is: {encrypted}\")\n",
    "\n",
    "#b decrypt\n",
    "encrypted_message_list = list(encrypted)\n",
    "for i, n in enumerate(encrypted_message_list):\n",
    "    for a in range(len(alphabet_list)):\n",
    "        if n == alphabet_list[a]:\n",
    "            encrypted_message_list[i] = alphabet_list[a - 1]\n",
    "decrypted = seperator.join(encrypted_message_list)\n",
    "print(f\"The decrypted message is: {decrypted}\")\n",
    "\n",
    "#c user chooses encryption or decryption\n",
    "choice = input(\"Choose encryption or decryption: \")"
   ]
  },
  {
   "cell_type": "code",
   "execution_count": null,
   "metadata": {},
   "outputs": [],
   "source": []
  }
 ],
 "metadata": {
  "kernelspec": {
   "display_name": "Python 3.9.13 ('python-programming-CYRILLE-NGIDE-8lYZxi0s')",
   "language": "python",
   "name": "python3"
  },
  "language_info": {
   "codemirror_mode": {
    "name": "ipython",
    "version": 3
   },
   "file_extension": ".py",
   "mimetype": "text/x-python",
   "name": "python",
   "nbconvert_exporter": "python",
   "pygments_lexer": "ipython3",
   "version": "3.9.13"
  },
  "orig_nbformat": 4,
  "vscode": {
   "interpreter": {
    "hash": "dd247279cb5a2223fd23417ef4ee3ca82dcfbfedfd031578b30353f77bfa8fd6"
   }
  }
 },
 "nbformat": 4,
 "nbformat_minor": 2
}
