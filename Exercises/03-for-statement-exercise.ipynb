{
 "cells": [
  {
   "cell_type": "markdown",
   "metadata": {},
   "source": [
    "#### 1 count numbers"
   ]
  },
  {
   "cell_type": "code",
   "execution_count": 14,
   "metadata": {},
   "outputs": [
    {
     "name": "stdout",
     "output_type": "stream",
     "text": [
      "-10\n",
      "-8\n",
      "-6\n",
      "-4\n",
      "-2\n",
      "0\n",
      "2\n",
      "4\n",
      "6\n",
      "8\n"
     ]
    }
   ],
   "source": [
    "for i in range(-10, 10):\n",
    "    if i%2 == 0: \n",
    "        print(i)"
   ]
  },
  {
   "cell_type": "markdown",
   "metadata": {},
   "source": [
    "#### Arithmetic sum"
   ]
  },
  {
   "cell_type": "code",
   "execution_count": 7,
   "metadata": {},
   "outputs": [
    {
     "name": "stdout",
     "output_type": "stream",
     "text": [
      "5050\n",
      "2500\n"
     ]
    }
   ],
   "source": [
    "## a)\n",
    "sum_numbers = 0\n",
    "for i in range(1, 101):\n",
    "    sum_numbers += i\n",
    "print(sum_numbers)\n",
    "\n",
    "sum_odd = 0\n",
    "for i in range(1, 100):\n",
    "    if i%2 == 1:\n",
    "        sum_odd += i\n",
    "print(sum_odd)"
   ]
  },
  {
   "cell_type": "markdown",
   "metadata": {},
   "source": [
    "#### multiplication table"
   ]
  },
  {
   "cell_type": "code",
   "execution_count": 50,
   "metadata": {},
   "outputs": [
    {
     "name": "stdout",
     "output_type": "stream",
     "text": [
      "6th multiplication table is \n",
      " \n",
      " 0 * 6 = 0\n",
      " \n",
      " 1 * 6 = 6\n",
      " \n",
      " 2 * 6 = 12\n",
      " \n",
      " 3 * 6 = 18\n",
      " \n",
      " 4 * 6 = 24\n",
      " \n",
      " 5 * 6 = 30\n",
      " \n",
      " 6 * 6 = 36\n",
      " \n",
      " 7 * 6 = 42\n",
      " \n",
      " 8 * 6 = 48\n",
      " \n",
      " 9 * 6 = 54\n",
      " \n",
      " 10 * 6 = 60\n",
      " \n",
      " 2 * 2 = 4\n",
      "(1, 1)(1, 2)(1, 3)\n",
      "(2, 1)(2, 2)(2, 3)\n",
      "(3, 1)(3, 2)(3, 3)\n",
      "0\t0\t0\t0\t0\t0\t0\t0\t0\t0\t0\t\n",
      "0\t1\t2\t3\t4\t5\t6\t7\t8\t9\t10\t\n",
      "0\t2\t4\t6\t8\t10\t12\t14\t16\t18\t20\t\n",
      "0\t3\t6\t9\t12\t15\t18\t21\t24\t27\t30\t\n",
      "0\t4\t8\t12\t16\t20\t24\t28\t32\t36\t40\t\n",
      "0\t5\t10\t15\t20\t25\t30\t35\t40\t45\t50\t\n",
      "0\t6\t12\t18\t24\t30\t36\t42\t48\t54\t60\t\n",
      "0\t7\t14\t21\t28\t35\t42\t49\t56\t63\t70\t\n",
      "0\t8\t16\t24\t32\t40\t48\t56\t64\t72\t80\t\n",
      "0\t9\t18\t27\t36\t45\t54\t63\t72\t81\t90\t\n",
      "0\t10\t20\t30\t40\t50\t60\t70\t80\t90\t100\t\n"
     ]
    }
   ],
   "source": [
    "## a\n",
    "print(\"6th multiplication table is \")\n",
    "for i in range(0,11):\n",
    "    print(f\" \\n {i} * 6 = {i * 6}\")\n",
    "\n",
    "## b\n",
    "desired_num = int(input(\"Input your desired multiploication number\"))\n",
    "start_mul = int(input(\"Input start of table\"))\n",
    "end_mul = int(input(\"Input start of table\"))\n",
    "\n",
    "for i in range(start_mul, end_mul):\n",
    "     print(f\" \\n {i} * {desired_num} = {i * desired_num}\")\n",
    "\n",
    "## c \n",
    "for row in range(1,4):\n",
    "    for col in range(1,4):\n",
    "        print(f\"({row}, {col})\", end=\"\")\n",
    "    print() #newline\n",
    "\n",
    "for x in range(0,11):\n",
    "    for y in range(0,11):\n",
    "        print(f\"{x * y}\\t\" , end=\"\")\n",
    "    print()\n"
   ]
  },
  {
   "cell_type": "markdown",
   "metadata": {},
   "source": [
    "### Faculty"
   ]
  },
  {
   "cell_type": "code",
   "execution_count": 73,
   "metadata": {},
   "outputs": [
    {
     "name": "stdout",
     "output_type": "stream",
     "text": [
      "24\n"
     ]
    }
   ],
   "source": [
    "import math\n",
    "number =  int(input(\"Input a number\"))\n",
    "product = 1\n",
    "\n",
    "for i in range(1, number):\n",
    "    product = product * i\n",
    "print(product)\n"
   ]
  },
  {
   "cell_type": "markdown",
   "metadata": {},
   "source": [
    "### guess the number"
   ]
  },
  {
   "cell_type": "code",
   "execution_count": null,
   "metadata": {},
   "outputs": [],
   "source": [
    "import random as rnd\n",
    "import math\n",
    "\n",
    "rand = rnd.randint(0,9)\n",
    "for i in range(0,9):\n",
    "    math.ra"
   ]
  },
  {
   "cell_type": "markdown",
   "metadata": {},
   "source": [
    "### rice on chessboard"
   ]
  },
  {
   "cell_type": "code",
   "execution_count": 105,
   "metadata": {},
   "outputs": [
    {
     "name": "stdout",
     "output_type": "stream",
     "text": [
      "18446744073709551615\n"
     ]
    }
   ],
   "source": [
    "#might need a better solution later on\n",
    "sum_num = 0\n",
    "for i in range(1, 64):\n",
    "    sum_num += (2**i)\n",
    "print(sum_num + 1)\n",
    "\n",
    "\n",
    "\n",
    "\n",
    "\n",
    "\n",
    "\n"
   ]
  },
  {
   "cell_type": "code",
   "execution_count": null,
   "metadata": {},
   "outputs": [],
   "source": []
  },
  {
   "cell_type": "code",
   "execution_count": null,
   "metadata": {},
   "outputs": [],
   "source": []
  }
 ],
 "metadata": {
  "kernelspec": {
   "display_name": "Python 3.9.13 ('python-programming-CYRILLE-NGIDE-8lYZxi0s')",
   "language": "python",
   "name": "python3"
  },
  "language_info": {
   "codemirror_mode": {
    "name": "ipython",
    "version": 3
   },
   "file_extension": ".py",
   "mimetype": "text/x-python",
   "name": "python",
   "nbconvert_exporter": "python",
   "pygments_lexer": "ipython3",
   "version": "3.9.13"
  },
  "orig_nbformat": 4,
  "vscode": {
   "interpreter": {
    "hash": "dd247279cb5a2223fd23417ef4ee3ca82dcfbfedfd031578b30353f77bfa8fd6"
   }
  }
 },
 "nbformat": 4,
 "nbformat_minor": 2
}
