{
 "cells": [
  {
   "cell_type": "markdown",
   "metadata": {},
   "source": [
    "### Dice rolls"
   ]
  },
  {
   "cell_type": "code",
   "execution_count": 15,
   "metadata": {},
   "outputs": [
    {
     "name": "stdout",
     "output_type": "stream",
     "text": [
      "Dice simulation output: \n",
      "[3, 2, 5, 5, 2, 3, 1, 4, 5, 1]\n",
      "\n",
      "List sorted ascending order: \n",
      "[1, 1, 2, 2, 3, 3, 4, 5, 5, 5]\n",
      "\n",
      "List sorted descending order: \n",
      "[5, 5, 5, 4, 3, 3, 2, 2, 1, 1]\n",
      "\n",
      "The maximum number in the list is: 5\n",
      "\n",
      "The min number in the list is: 1\n",
      "\n"
     ]
    }
   ],
   "source": [
    "import random as rnd\n",
    "import math\n",
    "\n",
    "dice_rolls = [rnd.randint(1,6) for i in range(10)]\n",
    "print(f\"Dice simulation output: \\n{dice_rolls}\\n\")\n",
    "\n",
    "#a ascending\n",
    "dice_rolls.sort()\n",
    "print(f\"List sorted ascending order: \\n{dice_rolls}\\n\")\n",
    "\n",
    "#b descending\n",
    "dice_rolls.sort(reverse=True)\n",
    "print(f\"List sorted descending order: \\n{dice_rolls}\\n\")\n",
    "\n",
    "#c\n",
    "max_num = max(dice_rolls)\n",
    "print(f\"The maximum number in the list is: {max_num}\\n\")\n",
    "\n",
    "min_num = min(dice_rolls)\n",
    "print(f\"The min number in the list is: {min_num}\\n\")"
   ]
  },
  {
   "cell_type": "markdown",
   "metadata": {},
   "source": [
    "#### food menu"
   ]
  },
  {
   "cell_type": "code",
   "execution_count": 16,
   "metadata": {},
   "outputs": [
    {
     "name": "stdout",
     "output_type": "stream",
     "text": [
      "This is the menu for the weekdays: [('Lundi', 'vegetarisk lasagne'), ('Mardi', 'spaghetti'), ('Mercredi', 'fisk'), ('Jeudi', 'grönsakssoppa'), ('Vendredi', 'pannkakor')]\n"
     ]
    }
   ],
   "source": [
    "#a\n",
    "food_list = [\"vegetarisk lasagne\", \"spaghetti\", \"fisk\", \"grönsakssoppa\", \"pannkakor\"]\n",
    "\n",
    "#b\n",
    "weekdays = [\"Lundi\", \"Mardi\", \"Mercredi\",\"Jeudi\", \"Vendredi\"]\n",
    "\n",
    "#c\n",
    "weekly_menu = list(zip(weekdays, food_list))\n",
    "print(f\"This is the menu for the weekdays: {weekly_menu}\")"
   ]
  },
  {
   "cell_type": "code",
   "execution_count": null,
   "metadata": {},
   "outputs": [],
   "source": []
  }
 ],
 "metadata": {
  "kernelspec": {
   "display_name": "Python 3.9.13 ('python-programming-CYRILLE-NGIDE-8lYZxi0s')",
   "language": "python",
   "name": "python3"
  },
  "language_info": {
   "codemirror_mode": {
    "name": "ipython",
    "version": 3
   },
   "file_extension": ".py",
   "mimetype": "text/x-python",
   "name": "python",
   "nbconvert_exporter": "python",
   "pygments_lexer": "ipython3",
   "version": "3.9.13"
  },
  "orig_nbformat": 4,
  "vscode": {
   "interpreter": {
    "hash": "dd247279cb5a2223fd23417ef4ee3ca82dcfbfedfd031578b30353f77bfa8fd6"
   }
  }
 },
 "nbformat": 4,
 "nbformat_minor": 2
}
