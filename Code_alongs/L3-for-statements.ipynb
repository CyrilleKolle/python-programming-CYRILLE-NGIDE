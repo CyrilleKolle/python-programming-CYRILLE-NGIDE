{
 "cells": [
  {
   "cell_type": "markdown",
   "metadata": {},
   "source": [
    "### For loop"
   ]
  },
  {
   "cell_type": "code",
   "execution_count": 5,
   "metadata": {},
   "outputs": [
    {
     "name": "stdout",
     "output_type": "stream",
     "text": [
      "0 is square of 0\n",
      "1 is square of 1\n",
      "4 is square of 2\n",
      "9 is square of 3\n",
      "16 is square of 4\n"
     ]
    }
   ],
   "source": [
    "for i in range(5):\n",
    "    print(f\"{i ** 2} is square of {i}\")"
   ]
  },
  {
   "cell_type": "code",
   "execution_count": 6,
   "metadata": {},
   "outputs": [
    {
     "name": "stdout",
     "output_type": "stream",
     "text": [
      "0\t1\t2\t3\t4\t5\t6\t7\t8\t9\t"
     ]
    }
   ],
   "source": [
    "for i in range(10):\n",
    "    print(i, end =\"\\t\")"
   ]
  },
  {
   "cell_type": "code",
   "execution_count": 9,
   "metadata": {},
   "outputs": [
    {
     "name": "stdout",
     "output_type": "stream",
     "text": [
      "0 + +1 +2 +3 ... +9 = 45\n"
     ]
    }
   ],
   "source": [
    "my_sum = 0\n",
    "for i in range(10):\n",
    "    my_sum += i\n",
    "\n",
    "print(f\"0 + +1 +2 +3 ... +9 = {my_sum}\")\n"
   ]
  },
  {
   "cell_type": "markdown",
   "metadata": {},
   "source": [
    "### Loop through list"
   ]
  },
  {
   "cell_type": "code",
   "execution_count": 11,
   "metadata": {},
   "outputs": [
    {
     "name": "stdout",
     "output_type": "stream",
     "text": [
      "rabbit is so cute\n",
      "guinea pig is so cute\n",
      "guppy is so cute\n"
     ]
    }
   ],
   "source": [
    "cute_animals = [\"rabbit\", \"guinea pig\", \"guppy\"]\n",
    "\n",
    "for animal in cute_animals:\n",
    "    print(f\"{animal} is so cute\")"
   ]
  },
  {
   "cell_type": "markdown",
   "metadata": {},
   "source": [
    "### Random module\n"
   ]
  },
  {
   "cell_type": "code",
   "execution_count": 14,
   "metadata": {},
   "outputs": [
    {
     "name": "stdout",
     "output_type": "stream",
     "text": [
      "number_sixes =174\n",
      "Proportion of sixes 0.174\n"
     ]
    }
   ],
   "source": [
    "import random as rnd\n",
    "\n",
    "dice = rnd.randint(1,6)\n",
    "number_sixes = 0 \n",
    "numbber_rolls = 1000\n",
    "\n",
    "for i in range(numbber_rolls):\n",
    "    dice = rnd.randint(1,6)\n",
    "    if dice == 6:\n",
    "        number_sixes += 1\n",
    "\n",
    "print(f\"{number_sixes =}\")\n",
    "print(f\"Proportion of sixes {number_sixes /numbber_rolls}\")\n",
    "\n",
    "### why does it seem to converge towards 0.166"
   ]
  },
  {
   "cell_type": "markdown",
   "metadata": {},
   "source": [
    "### Pasta\n",
    "\n",
    "Nationella prov math 3c ht14 - uppgift 18"
   ]
  },
  {
   "cell_type": "code",
   "execution_count": 16,
   "metadata": {},
   "outputs": [
    {
     "name": "stdout",
     "output_type": "stream",
     "text": [
      "Year 2016 is the pasta consumption of 15kg per person\n"
     ]
    }
   ],
   "source": [
    "### a)\n",
    "import math\n",
    "\n",
    "for year in range(10000):\n",
    "    pasta_consumption = .791*math.exp(.0526*year)\n",
    "    if pasta_consumption >= 15:\n",
    "        print(f\"Year {year + 1960} is the pasta consumption of 15kg per person\")\n",
    "        break"
   ]
  },
  {
   "cell_type": "code",
   "execution_count": 3,
   "metadata": {},
   "outputs": [
    {
     "ename": "ModuleNotFoundError",
     "evalue": "No module named 'matplotlib'",
     "output_type": "error",
     "traceback": [
      "\u001b[0;31m---------------------------------------------------------------------------\u001b[0m",
      "\u001b[0;31mModuleNotFoundError\u001b[0m                       Traceback (most recent call last)",
      "\u001b[1;32m/Users/cyrille/Documents/PythonAI22/github_projects/Code_alongs/l3-for-statements.ipynb Cell 11'\u001b[0m in \u001b[0;36m<cell line: 2>\u001b[0;34m()\u001b[0m\n\u001b[1;32m      <a href='vscode-notebook-cell:/Users/cyrille/Documents/PythonAI22/github_projects/Code_alongs/l3-for-statements.ipynb#ch0000010?line=0'>1</a>\u001b[0m \u001b[39m### b)\u001b[39;00m\n\u001b[0;32m----> <a href='vscode-notebook-cell:/Users/cyrille/Documents/PythonAI22/github_projects/Code_alongs/l3-for-statements.ipynb#ch0000010?line=1'>2</a>\u001b[0m \u001b[39mimport\u001b[39;00m \u001b[39mmatplotlib\u001b[39;00m\u001b[39m.\u001b[39;00m\u001b[39mpyplot\u001b[39;00m \u001b[39mas\u001b[39;00m \u001b[39mplt\u001b[39;00m\n\u001b[1;32m      <a href='vscode-notebook-cell:/Users/cyrille/Documents/PythonAI22/github_projects/Code_alongs/l3-for-statements.ipynb#ch0000010?line=3'>4</a>\u001b[0m \u001b[39m# creates an empty list\u001b[39;00m\n\u001b[1;32m      <a href='vscode-notebook-cell:/Users/cyrille/Documents/PythonAI22/github_projects/Code_alongs/l3-for-statements.ipynb#ch0000010?line=4'>5</a>\u001b[0m pasta_per_year \u001b[39m=\u001b[39m []\n",
      "\u001b[0;31mModuleNotFoundError\u001b[0m: No module named 'matplotlib'"
     ]
    }
   ],
   "source": [
    "### b)\n",
    "import matplotlib.pyplot as plt\n",
    "\n",
    "# creates an empty list\n",
    "pasta_per_year = []\n",
    "\n",
    "# loops 140 years - because 2100-1960\n",
    "for year in range(140):\n",
    "    pasta_consumption = .791*math.exp(.0526*year)\n",
    "    # append adds an element to the list\n",
    "    pasta_per_year.append(pasta_consumption) \n",
    "\n",
    "plt.plot(range(1960, 2100), pasta_per_year)\n",
    "plt.xlabel(\"Year\")\n",
    "plt.ylabel(\"Pasta consumption in kg\")\n",
    "plt.title(\"Pasta consumption per person since 1960 in kg\")\n",
    "plt.show()"
   ]
  },
  {
   "cell_type": "markdown",
   "metadata": {},
   "source": [
    "### Nested loops\n",
    "- a loopin a loop\n",
    "\n",
    "want to print this\n",
    "```\n",
    "(1,1) (1,2) (1,3)\n",
    "(2,1) (2,2) (2,3)\n",
    "(3,1) (3,2) (3,3)\n",
    "```\n"
   ]
  },
  {
   "cell_type": "code",
   "execution_count": 7,
   "metadata": {},
   "outputs": [
    {
     "name": "stdout",
     "output_type": "stream",
     "text": [
      "(1, 1)(1, 2)(1, 3)\n",
      "(2, 1)(2, 2)(2, 3)\n",
      "(3, 1)(3, 2)(3, 3)\n"
     ]
    }
   ],
   "source": [
    "for row in range(1,4):\n",
    "    for col in range(1,4):\n",
    "        print(f\"({row}, {col})\", end=\"\")\n",
    "    print() #newline"
   ]
  },
  {
   "cell_type": "code",
   "execution_count": null,
   "metadata": {},
   "outputs": [],
   "source": []
  }
 ],
 "metadata": {
  "kernelspec": {
   "display_name": "Python 3.9.13 64-bit",
   "language": "python",
   "name": "python3"
  },
  "language_info": {
   "codemirror_mode": {
    "name": "ipython",
    "version": 3
   },
   "file_extension": ".py",
   "mimetype": "text/x-python",
   "name": "python",
   "nbconvert_exporter": "python",
   "pygments_lexer": "ipython3",
   "version": "3.9.13"
  },
  "orig_nbformat": 4,
  "vscode": {
   "interpreter": {
    "hash": "aee8b7b246df8f9039afb4144a1f6fd8d2ca17a180786b69acc140d282b71a49"
   }
  }
 },
 "nbformat": 4,
 "nbformat_minor": 2
}
