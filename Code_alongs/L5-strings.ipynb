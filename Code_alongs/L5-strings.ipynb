{
 "cells": [
  {
   "cell_type": "markdown",
   "metadata": {},
   "source": [
    "### Strings"
   ]
  },
  {
   "cell_type": "markdown",
   "metadata": {},
   "source": [
    "#### Iterate through lists and concatenate"
   ]
  },
  {
   "cell_type": "code",
   "execution_count": 1,
   "metadata": {},
   "outputs": [
    {
     "name": "stdout",
     "output_type": "stream",
     "text": [
      "\n",
      "Name: Cyrille Kolle,\n",
      "Age: 32,\n",
      "Address: Pennygången 102,\n",
      "Phone: 88277282\n",
      "\n"
     ]
    }
   ],
   "source": [
    "firstname = \"Cyrille\"\n",
    "lastname= \"Kolle\"\n",
    "\n",
    "#Concatenate strings\n",
    "name = firstname + \" \" + lastname\n",
    "age = 32\n",
    "address = \"Pennygången 102\"\n",
    "phone = \"88277282\"\n",
    "\n",
    "#multiline f-string\n",
    "contact = f\"\"\"\n",
    "Name: {name},\n",
    "Age: {age},\n",
    "Address: {address},\n",
    "Phone: {phone}\n",
    "\"\"\"\n",
    "print(contact)"
   ]
  },
  {
   "cell_type": "code",
   "execution_count": 5,
   "metadata": {},
   "outputs": [
    {
     "name": "stdout",
     "output_type": "stream",
     "text": [
      "Plan \n",
      "Mo: AI intro\n",
      "Tu: Python\n",
      "We: Maths\n",
      "Th: SelfLearn\n",
      "Fr: Chill\n",
      "\n"
     ]
    }
   ],
   "source": [
    "schedule = [\"AI intro\", \"Python\", \"Maths\", \"SelfLearn\", \"Chill\"]\n",
    "days = [\"Mo\",\"Tu\", \"We\", \"Th\", \"Fr\"]\n",
    "\n",
    "week_plan = \"Plan \\n\"\n",
    "\n",
    "for day, task in zip(days, schedule):\n",
    "    week_plan += f\"{day}: {task}\\n\"\n",
    "print(week_plan)"
   ]
  },
  {
   "cell_type": "markdown",
   "metadata": {},
   "source": [
    "Indexing"
   ]
  },
  {
   "cell_type": "code",
   "execution_count": 11,
   "metadata": {},
   "outputs": [
    {
     "name": "stdout",
     "output_type": "stream",
     "text": [
      "!\n",
      "!False\n",
      "quote[-4:]='true'\n",
      "BAckwards: quote[::-1]='eurt sti esuaceb ynnuf stI - eslaF!'\n",
      "Lenght of string: 35 characters\n"
     ]
    }
   ],
   "source": [
    "quote = \"!False - Its funny because its true\"\n",
    "\n",
    "print(f\"{quote[0]}\")\n",
    "print(f\"{quote[:6]}\")\n",
    "print(f\"{quote[-4:]=}\")\n",
    "\n",
    "## Reverse list of strings\n",
    "print(f\"BAckwards: {quote[::-1]=}\")\n",
    "print(f\"Lenght of string: {len(quote)} characters\")\n",
    "\n"
   ]
  },
  {
   "cell_type": "markdown",
   "metadata": {},
   "source": [
    "### Split strings"
   ]
  },
  {
   "cell_type": "code",
   "execution_count": 19,
   "metadata": {},
   "outputs": [
    {
     "name": "stdout",
     "output_type": "stream",
     "text": [
      "[2.3, 3.0, 4.4]\n",
      "mean_value=3.233333333333333\n"
     ]
    }
   ],
   "source": [
    "#not possible\n",
    "#numbers = float(input(\"Input three numbers (seperated with commas): \")\n",
    "\n",
    "numbers = input(\"Input three numbers (seperated with commas): \")\n",
    "\n",
    "#split string into list of 3 strings\n",
    "#type convert each string into a float usng a float by iterating through the list\n",
    "#\n",
    "\n",
    "##list comprehension\n",
    "numbers = [float(number) for number in numbers.split(\",\")]\n",
    "mean_value = sum(numbers)/len(numbers)\n",
    "print(f\"{numbers}\")\n",
    "print(f\"{mean_value=}\")"
   ]
  },
  {
   "cell_type": "code",
   "execution_count": 21,
   "metadata": {},
   "outputs": [
    {
     "name": "stdout",
     "output_type": "stream",
     "text": [
      "Help on method_descriptor:\n",
      "\n",
      "split(self, /, sep=None, maxsplit=-1)\n",
      "    Return a list of the words in the string, using sep as the delimiter string.\n",
      "    \n",
      "    sep\n",
      "      The delimiter according which to split the string.\n",
      "      None (the default value) means split according to any whitespace,\n",
      "      and discard empty strings from the result.\n",
      "    maxsplit\n",
      "      Maximum number of splits to do.\n",
      "      -1 (the default value) means no limit.\n",
      "\n"
     ]
    }
   ],
   "source": [
    "##quick documentation\n",
    "help(str.split)"
   ]
  },
  {
   "cell_type": "markdown",
   "metadata": {},
   "source": [
    "### Regular expression\n",
    "\n",
    "- find patterns in a string\n",
    "- e.g phone numbers, email, capital letters, sequences..."
   ]
  },
  {
   "cell_type": "code",
   "execution_count": 27,
   "metadata": {},
   "outputs": [
    {
     "name": "stdout",
     "output_type": "stream",
     "text": [
      "['023-122383', '089-124334', '885-626729']\n",
      "This is match2: ['023-122383', '089-124334', '885-626729']\n"
     ]
    }
   ],
   "source": [
    "import re # re = regular expressions\n",
    "\n",
    "text = \"My phone number is 023-122383, John's number is 089-124334, Maria's number is 0885-626729\"\n",
    "\n",
    "#Extract the numbers\n",
    "#r\"\" stands for raw string\n",
    "macth1 = re.findall(r\"\\d\\d\\d-\\d\\d\\d\\d\\d\\d\", text)\n",
    "print(macth1)\n",
    "\n",
    "match2 = re.findall(r\"\\d{3}-\\d{6}\", text)\n",
    "print(f\"This is match2: {match2}\")"
   ]
  },
  {
   "cell_type": "code",
   "execution_count": 28,
   "metadata": {},
   "outputs": [
    {
     "name": "stdout",
     "output_type": "stream",
     "text": [
      "['katt', 'hatt', 'matt', 'matt']\n"
     ]
    }
   ],
   "source": [
    "text = \"Det var en gång en katt, som tog på sig en hatt, och spelade schack, fick schaktmatt med hjälp as skolmatt\"\n",
    "\n",
    "match = re.findall(r\".att\", text)\n",
    "print(match)"
   ]
  },
  {
   "cell_type": "code",
   "execution_count": null,
   "metadata": {},
   "outputs": [],
   "source": []
  }
 ],
 "metadata": {
  "kernelspec": {
   "display_name": "Python 3.9.13 ('python-programming-CYRILLE-NGIDE-8lYZxi0s')",
   "language": "python",
   "name": "python3"
  },
  "language_info": {
   "codemirror_mode": {
    "name": "ipython",
    "version": 3
   },
   "file_extension": ".py",
   "mimetype": "text/x-python",
   "name": "python",
   "nbconvert_exporter": "python",
   "pygments_lexer": "ipython3",
   "version": "3.9.13"
  },
  "orig_nbformat": 4,
  "vscode": {
   "interpreter": {
    "hash": "dd247279cb5a2223fd23417ef4ee3ca82dcfbfedfd031578b30353f77bfa8fd6"
   }
  }
 },
 "nbformat": 4,
 "nbformat_minor": 2
}
