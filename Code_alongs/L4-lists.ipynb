{
 "cells": [
  {
   "cell_type": "markdown",
   "metadata": {},
   "source": [
    "## Lists"
   ]
  },
  {
   "cell_type": "code",
   "execution_count": null,
   "metadata": {},
   "outputs": [],
   "source": []
  },
  {
   "cell_type": "code",
   "execution_count": 4,
   "metadata": {},
   "outputs": [
    {
     "name": "stdout",
     "output_type": "stream",
     "text": [
      "nice_foods[0] = 'pizza'\n",
      "grapes =  nice_foods[5] ='grapes'\n",
      "nice_foods[-3] ='pancakes'\n"
     ]
    }
   ],
   "source": [
    "#creates a new list with some elemets\n",
    "nice_foods = [\"pizza\", \"lasagne\", \"spaghetti\", \"pancakes\", \"banana\", \"grapes\"]\n",
    "\n",
    "#get first element\n",
    "print(f\"{nice_foods[0] = }\")\n",
    "\n",
    "#gets last element\n",
    "print(f\"{nice_foods[-1]} = { nice_foods[5] =}\")\n",
    "\n",
    "# element at index 3\n",
    "print(f\"{nice_foods[-3] =}\")"
   ]
  },
  {
   "cell_type": "markdown",
   "metadata": {},
   "source": [
    "###  Slicing"
   ]
  },
  {
   "cell_type": "code",
   "execution_count": 8,
   "metadata": {},
   "outputs": [
    {
     "name": "stdout",
     "output_type": "stream",
     "text": [
      "['pizza', 'lasagne', 'spaghetti', 'pancakes', 'banana', 'grapes']\n",
      "['lasagne', 'spaghetti', 'pancakes']\n",
      "['pizza', 'lasagne', 'spaghetti', 'pancakes', 'banana']\n",
      "nice_foods[:4] = ['pizza', 'lasagne', 'spaghetti', 'pancakes']\n",
      "['grapes', 'banana', 'pancakes', 'spaghetti', 'lasagne', 'pizza']\n"
     ]
    }
   ],
   "source": [
    "print(nice_foods)\n",
    "print(nice_foods[1:4])\n",
    "\n",
    "# : means we start from 0\n",
    "print(f\"{nice_foods[:-1]}\") # 0 to -2\n",
    "print(f\"{nice_foods[:4] = }\") # 0,1,2,3\n",
    "\n",
    "print(f\"{nice_foods[::-1]}\") # reverses the list\n"
   ]
  },
  {
   "cell_type": "markdown",
   "metadata": {},
   "source": [
    "### Sort"
   ]
  },
  {
   "cell_type": "code",
   "execution_count": 11,
   "metadata": {},
   "outputs": [
    {
     "name": "stdout",
     "output_type": "stream",
     "text": [
      "['banana', 'grapes', 'lasagne', 'pancakes', 'pizza', 'spaghetti']\n",
      "[-4, -2, 3, 5, 8.4]\n",
      "Cyrille\n"
     ]
    }
   ],
   "source": [
    "nice_foods.sort()\n",
    "print(nice_foods)\n",
    "\n",
    "numbers = [-2,3,5, 8.4, -4]\n",
    "numbers.sort()\n",
    "print(numbers)\n"
   ]
  },
  {
   "cell_type": "markdown",
   "metadata": {},
   "source": [
    "### For-loop with enumerate"
   ]
  },
  {
   "cell_type": "code",
   "execution_count": 13,
   "metadata": {},
   "outputs": [
    {
     "name": "stdout",
     "output_type": "stream",
     "text": [
      "['banana', 'grapes', 'lasagne', 'pancakes', 'pizza', 'spaghetti']\n",
      "1. banana\n",
      "2. grapes\n",
      "3. lasagne\n",
      "4. pancakes\n",
      "5. pizza\n",
      "6. spaghetti\n"
     ]
    }
   ],
   "source": [
    "print(nice_foods)\n",
    "# enumerate -> (index, element) in list\n",
    "for i, food in enumerate(nice_foods, 1): #1 starts at the number desired to start counting\n",
    "    print(f\"{i}. {food}\")\n",
    "#alternatively but less adviced\n",
    "# for i in range(len(nice_foods)):\n",
    "#     print(f\"{i}. {nice_foods[i]}\")"
   ]
  },
  {
   "cell_type": "markdown",
   "metadata": {},
   "source": [
    "### List comprehension"
   ]
  },
  {
   "cell_type": "code",
   "execution_count": 14,
   "metadata": {},
   "outputs": [
    {
     "data": {
      "text/plain": [
       "[0, 1, 8, 27, 64, 125, 216, 343, 512, 729]"
      ]
     },
     "execution_count": 14,
     "metadata": {},
     "output_type": "execute_result"
    }
   ],
   "source": [
    "#cubes\n",
    "#normal way using append\n",
    "cubes = []\n",
    "for i in range(10):\n",
    "    cubes.append(i**3) #i^3\n",
    "cubes"
   ]
  },
  {
   "cell_type": "code",
   "execution_count": 15,
   "metadata": {},
   "outputs": [
    {
     "data": {
      "text/plain": [
       "[0, 1, 8, 27, 64, 125, 216, 343, 512, 729]"
      ]
     },
     "execution_count": 15,
     "metadata": {},
     "output_type": "execute_result"
    }
   ],
   "source": [
    "# list comprehension\n",
    "cubes = [i**3 for i in range(10)]\n",
    "cubes"
   ]
  },
  {
   "cell_type": "code",
   "execution_count": 16,
   "metadata": {},
   "outputs": [
    {
     "data": {
      "text/plain": [
       "[1, 27, 125, 343, 729]"
      ]
     },
     "execution_count": 16,
     "metadata": {},
     "output_type": "execute_result"
    }
   ],
   "source": [
    "# cubes every odd number\n",
    "cubes_odd = [i**3 for i in range(10) if i%2!=0]\n",
    "cubes_odd"
   ]
  },
  {
   "cell_type": "code",
   "execution_count": 17,
   "metadata": {},
   "outputs": [
    {
     "data": {
      "text/plain": [
       "[3, 1, 2, 1, 5, 2, 4, 2, 3, 4]"
      ]
     },
     "execution_count": 17,
     "metadata": {},
     "output_type": "execute_result"
    }
   ],
   "source": [
    "import random as rnd\n",
    "# dice list\n",
    "#get a random number from 1-6 for a a range of 10\n",
    "dices = [rnd.randint(1,6) for _ in range(10)] # convention to use _ when not using the loop variable\n",
    "dices"
   ]
  },
  {
   "cell_type": "markdown",
   "metadata": {},
   "source": [
    "### 2D list (Lists in list)"
   ]
  },
  {
   "cell_type": "code",
   "execution_count": 20,
   "metadata": {},
   "outputs": [
    {
     "name": "stdout",
     "output_type": "stream",
     "text": [
      "grades[1]= ['B', 20]\n",
      "grades[1][1]=20\n"
     ]
    }
   ],
   "source": [
    "grades = [[\"A\", 25], [\"B\", 20], [\"f\", 5]]\n",
    "print(f\"{grades[1]= }\")\n",
    "print(f\"{grades[1][1]=}\")"
   ]
  },
  {
   "cell_type": "code",
   "execution_count": null,
   "metadata": {},
   "outputs": [],
   "source": []
  }
 ],
 "metadata": {
  "kernelspec": {
   "display_name": "Python 3.9.13 64-bit",
   "language": "python",
   "name": "python3"
  },
  "language_info": {
   "codemirror_mode": {
    "name": "ipython",
    "version": 3
   },
   "file_extension": ".py",
   "mimetype": "text/x-python",
   "name": "python",
   "nbconvert_exporter": "python",
   "pygments_lexer": "ipython3",
   "version": "3.9.13"
  },
  "orig_nbformat": 4,
  "vscode": {
   "interpreter": {
    "hash": "aee8b7b246df8f9039afb4144a1f6fd8d2ca17a180786b69acc140d282b71a49"
   }
  }
 },
 "nbformat": 4,
 "nbformat_minor": 2
}
