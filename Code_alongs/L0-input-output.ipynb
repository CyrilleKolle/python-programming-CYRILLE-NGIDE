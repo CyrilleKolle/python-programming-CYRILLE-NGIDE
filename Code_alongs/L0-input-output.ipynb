{
 "cells": [
  {
   "cell_type": "code",
   "execution_count": 1,
   "metadata": {},
   "outputs": [
    {
     "name": "stdout",
     "output_type": "stream",
     "text": [
      "hey Cyrille, you are 32.2 old\n",
      "419\n"
     ]
    }
   ],
   "source": [
    "name = \"Cyrille\"\n",
    "age = 32.2\n",
    "print(f\"hey {name}, you are {age} old\")\n",
    "name = 419\n",
    "\n",
    "print(name)"
   ]
  },
  {
   "cell_type": "markdown",
   "metadata": {},
   "source": [
    "## Input"
   ]
  },
  {
   "cell_type": "code",
   "execution_count": 2,
   "metadata": {},
   "outputs": [
    {
     "name": "stdout",
     "output_type": "stream",
     "text": [
      "Hello 80, you are 80 old\n"
     ]
    }
   ],
   "source": [
    "name = input(\"What is your name\")\n",
    "age = input(\"What is your age\")\n",
    "\n",
    "print(f\"Hello {name}, you are {age} old\")\n"
   ]
  },
  {
   "cell_type": "markdown",
   "metadata": {},
   "source": [
    "1 "
   ]
  },
  {
   "cell_type": "markdown",
   "metadata": {},
   "source": [
    "## Calculation"
   ]
  },
  {
   "cell_type": "code",
   "execution_count": 3,
   "metadata": {},
   "outputs": [
    {
     "name": "stdout",
     "output_type": "stream",
     "text": [
      "Your force is 608.84 N\n"
     ]
    }
   ],
   "source": [
    "gravity = 9.82\n",
    "mass = 62\n",
    "force = mass * gravity\n",
    "print(f\"Your force is {force} N\")"
   ]
  },
  {
   "cell_type": "code",
   "execution_count": 4,
   "metadata": {},
   "outputs": [
    {
     "ename": "TypeError",
     "evalue": "can't multiply sequence by non-int of type 'float'",
     "output_type": "error",
     "traceback": [
      "\u001b[0;31m---------------------------------------------------------------------------\u001b[0m",
      "\u001b[0;31mTypeError\u001b[0m                                 Traceback (most recent call last)",
      "\u001b[1;32m/Users/cyrille/Documents/PythonAI22/github_projects/Code_alongs/L0-input-output.ipynb Cell 7'\u001b[0m in \u001b[0;36m<cell line: 2>\u001b[0;34m()\u001b[0m\n\u001b[1;32m      <a href='vscode-notebook-cell:/Users/cyrille/Documents/PythonAI22/github_projects/Code_alongs/L0-input-output.ipynb#ch0000006?line=0'>1</a>\u001b[0m mass \u001b[39m=\u001b[39m \u001b[39minput\u001b[39m(\u001b[39m\"\u001b[39m\u001b[39menter your mass (kg): \u001b[39m\u001b[39m\"\u001b[39m)\n\u001b[0;32m----> <a href='vscode-notebook-cell:/Users/cyrille/Documents/PythonAI22/github_projects/Code_alongs/L0-input-output.ipynb#ch0000006?line=1'>2</a>\u001b[0m force \u001b[39m=\u001b[39m mass \u001b[39m*\u001b[39;49m gravity\n",
      "\u001b[0;31mTypeError\u001b[0m: can't multiply sequence by non-int of type 'float'"
     ]
    }
   ],
   "source": [
    "mass = input(\"enter your mass (kg): \")\n",
    "force = mass * gravity"
   ]
  },
  {
   "cell_type": "code",
   "execution_count": 9,
   "metadata": {},
   "outputs": [
    {
     "name": "stdout",
     "output_type": "stream",
     "text": [
      "force=785.6 N\n"
     ]
    }
   ],
   "source": [
    "# solution\n",
    "#writing the = next to the variable makes sure pythonn prints the variable aswell\n",
    "# :.1f rounds to 1 decimal place\n",
    "mass = float(input(\"Enter your mass (kg) : \"))\n",
    "force = mass * gravity\n",
    "print (f\"{force=:.1f} N\")"
   ]
  },
  {
   "cell_type": "code",
   "execution_count": 11,
   "metadata": {},
   "outputs": [
    {
     "name": "stdout",
     "output_type": "stream",
     "text": [
      "force=785.6N\n"
     ]
    }
   ],
   "source": [
    "\n",
    "# f\"\" is a formated string\n",
    "# the purpose for a formated string is for the compiler to interpret as a variable rather than string\n",
    "print(f\"{force=}N\")"
   ]
  }
 ],
 "metadata": {
  "kernelspec": {
   "display_name": "Python 3.9.13 64-bit",
   "language": "python",
   "name": "python3"
  },
  "language_info": {
   "codemirror_mode": {
    "name": "ipython",
    "version": 3
   },
   "file_extension": ".py",
   "mimetype": "text/x-python",
   "name": "python",
   "nbconvert_exporter": "python",
   "pygments_lexer": "ipython3",
   "version": "3.9.13"
  },
  "orig_nbformat": 4,
  "vscode": {
   "interpreter": {
    "hash": "aee8b7b246df8f9039afb4144a1f6fd8d2ca17a180786b69acc140d282b71a49"
   }
  }
 },
 "nbformat": 4,
 "nbformat_minor": 2
}
